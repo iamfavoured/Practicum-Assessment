{
 "cells": [
  {
   "cell_type": "markdown",
   "id": "5be0f881-ff33-4ddd-b596-7f4365c4791b",
   "metadata": {},
   "source": [
    "## Practicum Assesment"
   ]
  },
  {
   "cell_type": "markdown",
   "id": "3e9d2330-1158-4c18-a547-a2b94f9915d4",
   "metadata": {},
   "source": [
    "### Question 1.1: Download the Dataset  - 30mins for Question1"
   ]
  },
  {
   "cell_type": "code",
   "execution_count": 1,
   "id": "5b3b001a-9a0b-4ce8-a266-12ff73b591d2",
   "metadata": {},
   "outputs": [],
   "source": [
    "## Lets go ahead and import the necessary libaries we may need for this task\n",
    "\n",
    "import numpy as np     ##numpy lib\n",
    "import pandas as pd    ##pandas lib\n",
    "from matplotlib import pyplot as plt   ##matplotlib lib\n",
    "import plotly.express as px   ##plotly lib"
   ]
  },
  {
   "cell_type": "code",
   "execution_count": 2,
   "id": "792f2568-aec1-4ee9-93f8-944a4135a3c8",
   "metadata": {},
   "outputs": [
    {
     "data": {
      "text/html": [
       "<div>\n",
       "<style scoped>\n",
       "    .dataframe tbody tr th:only-of-type {\n",
       "        vertical-align: middle;\n",
       "    }\n",
       "\n",
       "    .dataframe tbody tr th {\n",
       "        vertical-align: top;\n",
       "    }\n",
       "\n",
       "    .dataframe thead th {\n",
       "        text-align: right;\n",
       "    }\n",
       "</style>\n",
       "<table border=\"1\" class=\"dataframe\">\n",
       "  <thead>\n",
       "    <tr style=\"text-align: right;\">\n",
       "      <th></th>\n",
       "      <th>color</th>\n",
       "      <th>director_name</th>\n",
       "      <th>num_critic_for_reviews</th>\n",
       "      <th>duration</th>\n",
       "      <th>director_facebook_likes</th>\n",
       "      <th>actor_3_facebook_likes</th>\n",
       "      <th>actor_2_name</th>\n",
       "      <th>actor_1_facebook_likes</th>\n",
       "      <th>gross</th>\n",
       "      <th>genres</th>\n",
       "      <th>...</th>\n",
       "      <th>num_user_for_reviews</th>\n",
       "      <th>language</th>\n",
       "      <th>country</th>\n",
       "      <th>content_rating</th>\n",
       "      <th>budget</th>\n",
       "      <th>title_year</th>\n",
       "      <th>actor_2_facebook_likes</th>\n",
       "      <th>imdb_score</th>\n",
       "      <th>aspect_ratio</th>\n",
       "      <th>movie_facebook_likes</th>\n",
       "    </tr>\n",
       "  </thead>\n",
       "  <tbody>\n",
       "    <tr>\n",
       "      <th>0</th>\n",
       "      <td>Color</td>\n",
       "      <td>James Cameron</td>\n",
       "      <td>723.0</td>\n",
       "      <td>178.0</td>\n",
       "      <td>0.0</td>\n",
       "      <td>855.0</td>\n",
       "      <td>Joel David Moore</td>\n",
       "      <td>1000.0</td>\n",
       "      <td>760505847.0</td>\n",
       "      <td>Action|Adventure|Fantasy|Sci-Fi</td>\n",
       "      <td>...</td>\n",
       "      <td>3054.0</td>\n",
       "      <td>English</td>\n",
       "      <td>USA</td>\n",
       "      <td>PG-13</td>\n",
       "      <td>237000000.0$</td>\n",
       "      <td>2009.0</td>\n",
       "      <td>936.0</td>\n",
       "      <td>7.9</td>\n",
       "      <td>1.78</td>\n",
       "      <td>33000</td>\n",
       "    </tr>\n",
       "    <tr>\n",
       "      <th>1</th>\n",
       "      <td>Color</td>\n",
       "      <td>Gore Verbinski</td>\n",
       "      <td>302.0</td>\n",
       "      <td>169.0</td>\n",
       "      <td>563.0</td>\n",
       "      <td>1000.0</td>\n",
       "      <td>Orlando Bloom</td>\n",
       "      <td>40000.0</td>\n",
       "      <td>309404152.0</td>\n",
       "      <td>Action|Adventure|Fantasy</td>\n",
       "      <td>...</td>\n",
       "      <td>1238.0</td>\n",
       "      <td>English</td>\n",
       "      <td>USA</td>\n",
       "      <td>PG-13</td>\n",
       "      <td>300000000.0$</td>\n",
       "      <td>2007.0</td>\n",
       "      <td>5000.0</td>\n",
       "      <td>7.1</td>\n",
       "      <td>2.35</td>\n",
       "      <td>0</td>\n",
       "    </tr>\n",
       "    <tr>\n",
       "      <th>2</th>\n",
       "      <td>Color</td>\n",
       "      <td>Sam Mendes</td>\n",
       "      <td>602.0</td>\n",
       "      <td>148.0</td>\n",
       "      <td>0.0</td>\n",
       "      <td>161.0</td>\n",
       "      <td>Rory Kinnear</td>\n",
       "      <td>11000.0</td>\n",
       "      <td>200074175.0</td>\n",
       "      <td>Action|Adventure|Thriller</td>\n",
       "      <td>...</td>\n",
       "      <td>994.0</td>\n",
       "      <td>English</td>\n",
       "      <td>UK</td>\n",
       "      <td>PG-13</td>\n",
       "      <td>245000000.0$</td>\n",
       "      <td>2015.0</td>\n",
       "      <td>393.0</td>\n",
       "      <td>6.8</td>\n",
       "      <td>2.35</td>\n",
       "      <td>85000</td>\n",
       "    </tr>\n",
       "    <tr>\n",
       "      <th>3</th>\n",
       "      <td>Color</td>\n",
       "      <td>Christopher Nolan</td>\n",
       "      <td>813.0</td>\n",
       "      <td>164.0</td>\n",
       "      <td>22000.0</td>\n",
       "      <td>23000.0</td>\n",
       "      <td>Christian Bale</td>\n",
       "      <td>27000.0</td>\n",
       "      <td>448130642.0</td>\n",
       "      <td>Action|Thriller</td>\n",
       "      <td>...</td>\n",
       "      <td>2701.0</td>\n",
       "      <td>English</td>\n",
       "      <td>USA</td>\n",
       "      <td>PG-13</td>\n",
       "      <td>250000000.0$</td>\n",
       "      <td>2012.0</td>\n",
       "      <td>23000.0</td>\n",
       "      <td>8.5</td>\n",
       "      <td>2.35</td>\n",
       "      <td>164000</td>\n",
       "    </tr>\n",
       "    <tr>\n",
       "      <th>4</th>\n",
       "      <td>NaN</td>\n",
       "      <td>Doug Walker</td>\n",
       "      <td>NaN</td>\n",
       "      <td>NaN</td>\n",
       "      <td>131.0</td>\n",
       "      <td>NaN</td>\n",
       "      <td>Rob Walker</td>\n",
       "      <td>131.0</td>\n",
       "      <td>NaN</td>\n",
       "      <td>Documentary</td>\n",
       "      <td>...</td>\n",
       "      <td>NaN</td>\n",
       "      <td>NaN</td>\n",
       "      <td>NaN</td>\n",
       "      <td>NaN</td>\n",
       "      <td>0.0$</td>\n",
       "      <td>NaN</td>\n",
       "      <td>12.0</td>\n",
       "      <td>7.1</td>\n",
       "      <td>NaN</td>\n",
       "      <td>0</td>\n",
       "    </tr>\n",
       "  </tbody>\n",
       "</table>\n",
       "<p>5 rows × 28 columns</p>\n",
       "</div>"
      ],
      "text/plain": [
       "   color      director_name  num_critic_for_reviews  duration  \\\n",
       "0  Color      James Cameron                   723.0     178.0   \n",
       "1  Color     Gore Verbinski                   302.0     169.0   \n",
       "2  Color         Sam Mendes                   602.0     148.0   \n",
       "3  Color  Christopher Nolan                   813.0     164.0   \n",
       "4    NaN        Doug Walker                     NaN       NaN   \n",
       "\n",
       "   director_facebook_likes  actor_3_facebook_likes      actor_2_name  \\\n",
       "0                      0.0                   855.0  Joel David Moore   \n",
       "1                    563.0                  1000.0     Orlando Bloom   \n",
       "2                      0.0                   161.0      Rory Kinnear   \n",
       "3                  22000.0                 23000.0    Christian Bale   \n",
       "4                    131.0                     NaN        Rob Walker   \n",
       "\n",
       "   actor_1_facebook_likes        gross                           genres  ...  \\\n",
       "0                  1000.0  760505847.0  Action|Adventure|Fantasy|Sci-Fi  ...   \n",
       "1                 40000.0  309404152.0         Action|Adventure|Fantasy  ...   \n",
       "2                 11000.0  200074175.0        Action|Adventure|Thriller  ...   \n",
       "3                 27000.0  448130642.0                  Action|Thriller  ...   \n",
       "4                   131.0          NaN                      Documentary  ...   \n",
       "\n",
       "  num_user_for_reviews language  country  content_rating        budget  \\\n",
       "0               3054.0  English      USA           PG-13  237000000.0$   \n",
       "1               1238.0  English      USA           PG-13  300000000.0$   \n",
       "2                994.0  English       UK           PG-13  245000000.0$   \n",
       "3               2701.0  English      USA           PG-13  250000000.0$   \n",
       "4                  NaN      NaN      NaN             NaN          0.0$   \n",
       "\n",
       "   title_year actor_2_facebook_likes imdb_score  aspect_ratio  \\\n",
       "0      2009.0                  936.0        7.9          1.78   \n",
       "1      2007.0                 5000.0        7.1          2.35   \n",
       "2      2015.0                  393.0        6.8          2.35   \n",
       "3      2012.0                23000.0        8.5          2.35   \n",
       "4         NaN                   12.0        7.1           NaN   \n",
       "\n",
       "  movie_facebook_likes  \n",
       "0                33000  \n",
       "1                    0  \n",
       "2                85000  \n",
       "3               164000  \n",
       "4                    0  \n",
       "\n",
       "[5 rows x 28 columns]"
      ]
     },
     "execution_count": 2,
     "metadata": {},
     "output_type": "execute_result"
    }
   ],
   "source": [
    "## Lets read our dataframe and store it in a variable name: 'df'\n",
    "df =pd.read_csv(r'C:\\Users\\IamFavoured\\Desktop\\IKEBUKWU\\Python_pro\\Practicum_Dataset\\movie_metadata.csv')  ## reading our file from a folder explicitly\n",
    "df.head()    ## The first 5 records in our dataset"
   ]
  },
  {
   "cell_type": "markdown",
   "id": "65612779-79e7-4bcf-a24d-b68c4279c2ac",
   "metadata": {},
   "source": [
    "### Question1.2: The number of null values in 'duration' column?"
   ]
  },
  {
   "cell_type": "code",
   "execution_count": 3,
   "id": "7c2ac934-904d-4104-9679-c4420de83478",
   "metadata": {},
   "outputs": [
    {
     "data": {
      "text/plain": [
       "Index(['color', 'director_name', 'num_critic_for_reviews', 'duration',\n",
       "       'director_facebook_likes', 'actor_3_facebook_likes', 'actor_2_name',\n",
       "       'actor_1_facebook_likes', 'gross', 'genres', 'actor_1_name',\n",
       "       'movie_title', 'num_voted_users', 'cast_total_facebook_likes',\n",
       "       'actor_3_name', 'facenumber_in_poster', 'plot_keywords',\n",
       "       'movie_imdb_link', 'num_user_for_reviews', 'language', 'country',\n",
       "       'content_rating', 'budget', 'title_year', 'actor_2_facebook_likes',\n",
       "       'imdb_score', 'aspect_ratio', 'movie_facebook_likes'],\n",
       "      dtype='object')"
      ]
     },
     "execution_count": 3,
     "metadata": {},
     "output_type": "execute_result"
    }
   ],
   "source": [
    "### Lets get all the columns in our dataset\n",
    "\n",
    "df.columns"
   ]
  },
  {
   "cell_type": "code",
   "execution_count": 4,
   "id": "f4c4eb60-2c7c-4350-88b2-298b3d96be25",
   "metadata": {},
   "outputs": [
    {
     "name": "stdout",
     "output_type": "stream",
     "text": [
      "True\n"
     ]
    }
   ],
   "source": [
    "### There are quite alot of columns in our dataframe:\n",
    "### Lets use another method to check if the desired column is in our dataframe\n",
    "\n",
    "if 'duration' in df.columns:\n",
    "    print('True')\n",
    "else :\n",
    "    print('False')"
   ]
  },
  {
   "cell_type": "code",
   "execution_count": 5,
   "id": "eb6fbaf6-7a20-4dd7-9d8e-2cf48d6e0976",
   "metadata": {},
   "outputs": [
    {
     "data": {
      "text/plain": [
       "15"
      ]
     },
     "execution_count": 5,
     "metadata": {},
     "output_type": "execute_result"
    }
   ],
   "source": [
    "## To check the number of null values in our column\n",
    "## We got 15...Yipee!!\n",
    "\n",
    "df['duration'].isnull().sum()"
   ]
  },
  {
   "cell_type": "markdown",
   "id": "a339f4f3-63d4-4a04-bf90-84b2d2e66124",
   "metadata": {},
   "source": [
    "### Question1.3: Replace the missing values in the duration column with the median value for this column"
   ]
  },
  {
   "cell_type": "code",
   "execution_count": 6,
   "id": "ad821b4e-4935-46d2-a611-32f778682e39",
   "metadata": {},
   "outputs": [
    {
     "data": {
      "text/plain": [
       "103.0"
      ]
     },
     "execution_count": 6,
     "metadata": {},
     "output_type": "execute_result"
    }
   ],
   "source": [
    "## There are several ways to do this: we could use imputer lib in sklearn, fillna, replace fn etc\n",
    "## Lets find out what the median value for the column is\n",
    "\n",
    "df['duration'].median()"
   ]
  },
  {
   "cell_type": "code",
   "execution_count": 7,
   "id": "50539da3-2fbf-4efb-8626-4f40ae172da3",
   "metadata": {},
   "outputs": [],
   "source": [
    "## Lets fill it with the median\n",
    "\n",
    "df['duration'].fillna(value=df['duration'].median(), inplace=True)"
   ]
  },
  {
   "cell_type": "code",
   "execution_count": 8,
   "id": "dcda1ebe-a0d3-4225-b09e-916cc6ecad79",
   "metadata": {},
   "outputs": [
    {
     "data": {
      "text/plain": [
       "0"
      ]
     },
     "execution_count": 8,
     "metadata": {},
     "output_type": "execute_result"
    }
   ],
   "source": [
    "## Lets check how many null values we have after the above operation\n",
    "\n",
    "df['duration'].isnull().sum()"
   ]
  },
  {
   "cell_type": "markdown",
   "id": "4cde2b69-134a-4847-b3a8-e1434a885101",
   "metadata": {},
   "source": [
    "### Question 1.4. What is the average film length? Give the answer as a floating-point figure rounded to two decimal place"
   ]
  },
  {
   "cell_type": "code",
   "execution_count": 9,
   "id": "961d1da3-2a10-450c-ab36-d8144b742609",
   "metadata": {},
   "outputs": [
    {
     "data": {
      "text/plain": [
       "107.19"
      ]
     },
     "execution_count": 9,
     "metadata": {},
     "output_type": "execute_result"
    }
   ],
   "source": [
    "## We can easily do this with a round fn\n",
    "\n",
    "round(df['duration'].mean(),2)"
   ]
  },
  {
   "cell_type": "markdown",
   "id": "189e94d7-c7c9-4246-b362-f405d53d2fbd",
   "metadata": {},
   "source": [
    "### Question 1.5. How many films between 90 minutes and two hours long were released in 2008?"
   ]
  },
  {
   "cell_type": "code",
   "execution_count": 12,
   "id": "cab4e534-25d0-4c18-9405-a1cc9a47a34f",
   "metadata": {},
   "outputs": [
    {
     "data": {
      "text/plain": [
       "160"
      ]
     },
     "execution_count": 12,
     "metadata": {},
     "output_type": "execute_result"
    }
   ],
   "source": [
    "### There are severral ways to query our df\n",
    "### Lets use the below\n",
    "### There are 160 films within this constraints\n",
    "\n",
    "df[(df.title_year == 2008.) & (df.duration >=90) & (df.duration <=120)].shape[0]"
   ]
  },
  {
   "cell_type": "markdown",
   "id": "5241af27-fc1d-4a5b-a4ea-806c911a1793",
   "metadata": {},
   "source": [
    "### Question 1.6. The budget column contains the film's budget. What is the median budget for all the films listed? Give the answer as an integer."
   ]
  },
  {
   "cell_type": "code",
   "execution_count": null,
   "id": "1dcaa6e9-d585-4bff-9f19-39ec67cf6f2d",
   "metadata": {},
   "outputs": [],
   "source": [
    "## We can do this with the function below\n",
    "\n",
    "df['budget'].median()  ## Encountered an error while performing this; the budget column is an object data type"
   ]
  },
  {
   "cell_type": "code",
   "execution_count": 14,
   "id": "941177ac-bf8c-465d-8d59-7f9d8a5b5abb",
   "metadata": {},
   "outputs": [
    {
     "data": {
      "text/plain": [
       "0    237000000.0$\n",
       "1    300000000.0$\n",
       "2    245000000.0$\n",
       "3    250000000.0$\n",
       "4            0.0$\n",
       "Name: budget, dtype: object"
      ]
     },
     "execution_count": 14,
     "metadata": {},
     "output_type": "execute_result"
    }
   ],
   "source": [
    "## Lets view the column\n",
    "df.budget.head()"
   ]
  },
  {
   "cell_type": "code",
   "execution_count": 15,
   "id": "c0e719e0-d7c7-44ee-b84c-6dab14cc982a",
   "metadata": {},
   "outputs": [],
   "source": [
    "## Lets remove the $ character then\n",
    "## convert the budget column to an integer\n",
    "\n",
    "df.budget= df.budget.str.replace('$','',regex=True)\n",
    "df.budget=pd.to_numeric(df.budget).astype(int)"
   ]
  },
  {
   "cell_type": "code",
   "execution_count": 18,
   "id": "9074cd9c-4f64-4cd4-af6e-27fafb70bb70",
   "metadata": {},
   "outputs": [
    {
     "data": {
      "text/plain": [
       "15000000"
      ]
     },
     "execution_count": 18,
     "metadata": {},
     "output_type": "execute_result"
    }
   ],
   "source": [
    "int(df['budget'].median())\n",
    "\n",
    "## Median for all the movie is 15,000,000 USD"
   ]
  },
  {
   "cell_type": "markdown",
   "id": "9c33d31f-e341-49df-afec-7946b33caaf9",
   "metadata": {},
   "source": [
    "## Question 2: What is the difference between DataFrame and Series? -- 10mins for Question 2"
   ]
  },
  {
   "cell_type": "code",
   "execution_count": 19,
   "id": "608709ea-d470-4a5a-85da-599ffeff256e",
   "metadata": {},
   "outputs": [],
   "source": [
    "## First we need to understand what data is?\n",
    "## Data is the collection of facts, concepts, information for reference or analysis purposes\n",
    "## Data is further classified into 2 : textual and non-textual data\n",
    "## Textual data : numbers, alphabets\n",
    "## Non-textual data : pictures, audiotapes, videos, finger print etc\n",
    "## Most textual data are stored in a table formats for easy interpretation and understanding\n",
    "## Table formats are combination of rows and columns\n",
    "## Rows are arranged from left to right\n",
    "## Columns move from top to bottom\n",
    "## see below for example"
   ]
  },
  {
   "cell_type": "markdown",
   "id": "7a14405a-3d75-4518-9e83-22b85457c0af",
   "metadata": {},
   "source": [
    "#### Rows"
   ]
  },
  {
   "cell_type": "code",
   "execution_count": 20,
   "id": "7d76b834-e09a-45ae-a026-327b9bcb28b1",
   "metadata": {},
   "outputs": [
    {
     "data": {
      "text/plain": [
       "array([0, 1, 2, 3, 4, 5, 6, 7, 8, 9])"
      ]
     },
     "execution_count": 20,
     "metadata": {},
     "output_type": "execute_result"
    }
   ],
   "source": [
    "np.arange(10)  ## Moves from left to right"
   ]
  },
  {
   "cell_type": "markdown",
   "id": "d983bde4-d26d-4135-b95a-fd74f739c4a4",
   "metadata": {},
   "source": [
    "#### Columns"
   ]
  },
  {
   "cell_type": "code",
   "execution_count": 21,
   "id": "dc660286-f416-42e1-8769-a420d97abee0",
   "metadata": {},
   "outputs": [
    {
     "data": {
      "text/plain": [
       "array([[0],\n",
       "       [1],\n",
       "       [2],\n",
       "       [3],\n",
       "       [4],\n",
       "       [5],\n",
       "       [6],\n",
       "       [7],\n",
       "       [8],\n",
       "       [9]])"
      ]
     },
     "execution_count": 21,
     "metadata": {},
     "output_type": "execute_result"
    }
   ],
   "source": [
    "np.arange(10).reshape(-1,1)  ## Moves from top to bottom"
   ]
  },
  {
   "cell_type": "code",
   "execution_count": 22,
   "id": "14686912-e6e7-47c1-9280-64aa56ed7a93",
   "metadata": {},
   "outputs": [],
   "source": [
    "## The above illustration makes it easier to understand the below explanation\n",
    "## Series are a single row or Column\n",
    "## Dataframe are combination of Series\n",
    "## The above are series\n",
    "## See below dataframe"
   ]
  },
  {
   "cell_type": "markdown",
   "id": "cddb9005-7275-44b2-ba19-164f7f931540",
   "metadata": {},
   "source": [
    "#### Dataframe"
   ]
  },
  {
   "cell_type": "code",
   "execution_count": 23,
   "id": "0830b1ac-c28a-4fec-860b-d3bf37a53074",
   "metadata": {},
   "outputs": [
    {
     "data": {
      "text/plain": [
       "array([[1., 0., 0.],\n",
       "       [0., 1., 0.],\n",
       "       [0., 0., 1.]])"
      ]
     },
     "execution_count": 23,
     "metadata": {},
     "output_type": "execute_result"
    }
   ],
   "source": [
    "np.eye(3)  ## Contains multiple rows and columns\n",
    "## Hope this helps\n",
    "## Any questions?"
   ]
  },
  {
   "cell_type": "markdown",
   "id": "4736d1e1-acc6-43d8-8e65-503d71ad813f",
   "metadata": {},
   "source": [
    "## Question 3   --15mins for Question 3"
   ]
  },
  {
   "cell_type": "markdown",
   "id": "ac508486-2611-4db4-9401-c183d3c07c13",
   "metadata": {},
   "source": [
    "#### $$ E(X) = 0.5, Var(X) = 2 $$\n",
    "#### $$ E(Y) = 7, Var(Y) = 3.5 $$\n",
    "#### $$ cov (X, Y) = -0.8 $$\n",
    "#### Find the variance of the random variable Z = 2X - 3Y"
   ]
  },
  {
   "cell_type": "markdown",
   "id": "502a81a8-e1c2-49c2-ad41-c6e7711ff93e",
   "metadata": {},
   "source": [
    "### $$ Var(z)=Var(2X-3Y)  $$\n",
    "### $$ Var(2X-3Y)= 2^2Var(X)+ (-3)^2Var(Y) + 2(2)(-3)Cov(X,Y)  $$\n",
    "### $$ Var(2X-3Y)= 4*2+ 9*3.5 + 2(2)(-3)(-0.8)  $$\n",
    "### $$ Var(2X-3Y)= 8+ 31.5 + 9.6  $$\n",
    "### $$ VarZ=Var(2X-3Y)= 49.1  $$\n",
    "### $$ VarZ=49.1  $$"
   ]
  },
  {
   "cell_type": "markdown",
   "id": "f4f68863-7a92-4204-a15d-a4e72a08e1c8",
   "metadata": {},
   "source": [
    "## Question 4. Task for Data Science course -- 10mins for Question 4"
   ]
  },
  {
   "cell_type": "markdown",
   "id": "5feef729-665c-4d05-b78e-f4b71ef3772e",
   "metadata": {},
   "source": [
    "## $$ MSE= \\frac{1}{n}\\sum_{i=1}^n (Y_i - \\bar{Y_i})^2  $$"
   ]
  },
  {
   "cell_type": "markdown",
   "id": "dd8043d9-afc6-45e2-90da-c0f26aff3ead",
   "metadata": {},
   "source": [
    "#### OMER MSE"
   ]
  },
  {
   "cell_type": "markdown",
   "id": "31579490-6728-4277-bed7-f81e7170676d",
   "metadata": {},
   "source": [
    "#### $$ MSE= \\frac{((-0.5^2)*400)+((0.7^2)*100)}{500} $$\n",
    "#### $$ MSE= \\frac{100+49}{500} $$\n",
    "#### $$ MSE= 0.298 $$"
   ]
  },
  {
   "cell_type": "markdown",
   "id": "7241225a-8f86-4908-b544-62dd6194a5d5",
   "metadata": {},
   "source": [
    "#### LIMOR MSE"
   ]
  },
  {
   "cell_type": "code",
   "execution_count": 172,
   "id": "071c4177-80e4-4ace-ad7b-071ccacb6530",
   "metadata": {},
   "outputs": [],
   "source": [
    "### Assuming limor found the smallest error\n",
    "### Lets Assume the error(difference) between the observed and predicted value is 0.3"
   ]
  },
  {
   "cell_type": "markdown",
   "id": "b564e611-4f5f-4c19-b3cc-6fecea4fec0d",
   "metadata": {},
   "source": [
    "#### $$ MSE= \\frac{(0.3^2)*500}{500} $$\n",
    "#### $$ MSE= \\frac{45}{500} $$\n",
    "#### $$ MSE= 0.09 $$"
   ]
  }
 ],
 "metadata": {
  "kernelspec": {
   "display_name": "Python 3 (ipykernel)",
   "language": "python",
   "name": "python3"
  },
  "language_info": {
   "codemirror_mode": {
    "name": "ipython",
    "version": 3
   },
   "file_extension": ".py",
   "mimetype": "text/x-python",
   "name": "python",
   "nbconvert_exporter": "python",
   "pygments_lexer": "ipython3",
   "version": "3.9.12"
  }
 },
 "nbformat": 4,
 "nbformat_minor": 5
}
